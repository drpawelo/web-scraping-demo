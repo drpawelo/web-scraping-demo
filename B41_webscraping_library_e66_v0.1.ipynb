{
 "cells": [
  {
   "cell_type": "code",
   "execution_count": 3,
   "id": "1e050f2d",
   "metadata": {},
   "outputs": [
    {
     "name": "stdout",
     "output_type": "stream",
     "text": [
      "works!\n"
     ]
    }
   ],
   "source": [
    "print(\"works!\")"
   ]
  },
  {
   "cell_type": "code",
   "execution_count": 4,
   "id": "4a1bd592",
   "metadata": {},
   "outputs": [],
   "source": [
    "import os\n",
    "from urllib.request import urlopen\n",
    "# from bs4 import BeautifulSoup\n",
    "from bs4 import BeautifulSoup\n",
    "import time"
   ]
  },
  {
   "cell_type": "code",
   "execution_count": 7,
   "id": "0d3ed344",
   "metadata": {},
   "outputs": [
    {
     "name": "stdout",
     "output_type": "stream",
     "text": [
      "0s\n",
      "1s\n",
      "2s\n",
      "3s\n",
      "4s\n"
     ]
    }
   ],
   "source": [
    "# sleep for 1 second (use with caution)\n",
    "for second in range(5):\n",
    "    print(f\"{second}s\")\n",
    "    time.sleep(1)"
   ]
  },
  {
   "cell_type": "code",
   "execution_count": 3,
   "id": "c395b1e6",
   "metadata": {},
   "outputs": [],
   "source": [
    "import json\n",
    "\n",
    "\n",
    "def save_data_as_file(data, file_name):\n",
    "    with open(file_name, 'w+') as outfile: # 'w' means open for writing. \n",
    "        # 'with x as y:' means try to do x and if it works, save it in variable y'\n",
    "        json.dump(data, outfile)\n",
    "\n",
    "def load_file_named(file_name):\n",
    "    file = open(file_name, 'r')\n",
    "    loaded_data =  json.load(file)\n",
    "    file.close()\n",
    "    return loaded_data\n",
    "\n",
    "def add_to_file(new_items, file_name):\n",
    "    if not os.path.exists(file_name):\n",
    "        save_data_as_file([], file_name)\n",
    "        print(\"created file\")\n",
    "    else:\n",
    "        print(f\"file contains {load_file_named(file_name)}!\")\n",
    "    list_in_file = load_file_named(file_name)\n",
    "    list_in_file.extend(new_items)\n",
    "    save_data_as_file(list_in_file, file_name)\n",
    "    print(f\"file now has {len(list_in_file)} items\")\n",
    "    \n",
    "    \n",
    "# add_to_file([1,2,3], )\n",
    "        \n",
    "# save_data_as_file(all_edinburgh_addressess, \"all_edinburgh_addressess.json\")"
   ]
  },
  {
   "cell_type": "code",
   "execution_count": 8,
   "id": "44b38bca",
   "metadata": {},
   "outputs": [
    {
     "name": "stdout",
     "output_type": "stream",
     "text": [
      "https://www.edinburgh.gov.uk/directory/10199/a-to-z/A\n",
      "<http.client.HTTPResponse object at 0x7fcef80cc850>\n"
     ]
    }
   ],
   "source": [
    "# experiments\n",
    "\n",
    "starting_page_url = \"https://www.edinburgh.gov.uk/directory/10199/a-to-z/A\"\n",
    "print( starting_page_url)\n",
    "main_site_source_code = urlopen(starting_page_url)\n",
    "print( main_site_source_code)\n"
   ]
  },
  {
   "cell_type": "code",
   "execution_count": 9,
   "id": "3e4dfe36",
   "metadata": {},
   "outputs": [],
   "source": [
    "soup = BeautifulSoup(main_site_source_code, 'html.parser')\n",
    "# print(soup)"
   ]
  },
  {
   "cell_type": "code",
   "execution_count": null,
   "id": "a358518a",
   "metadata": {},
   "outputs": [],
   "source": []
  },
  {
   "cell_type": "code",
   "execution_count": 17,
   "id": "257b2c41",
   "metadata": {},
   "outputs": [
    {
     "name": "stdout",
     "output_type": "stream",
     "text": [
      "1\n",
      "<h1 class=\"page-heading\">\n",
      "    Records starting with A\n",
      "</h1>\n",
      "\n",
      "    Records starting with A\n",
      "\n"
     ]
    }
   ],
   "source": [
    "list_of_letters_div = soup.find_all(\"h1\")[0]\n",
    "print(len(list_of_letters_div))\n",
    "print(list_of_letters_div)\n",
    "print(list_of_letters_div.text)"
   ]
  }
 ],
 "metadata": {
  "kernelspec": {
   "display_name": "Python 3 (ipykernel)",
   "language": "python",
   "name": "python3"
  },
  "language_info": {
   "codemirror_mode": {
    "name": "ipython",
    "version": 3
   },
   "file_extension": ".py",
   "mimetype": "text/x-python",
   "name": "python",
   "nbconvert_exporter": "python",
   "pygments_lexer": "ipython3",
   "version": "3.9.7"
  }
 },
 "nbformat": 4,
 "nbformat_minor": 5
}
